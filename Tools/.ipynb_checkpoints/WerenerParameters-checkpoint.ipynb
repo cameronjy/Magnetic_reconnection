{
 "cells": [
  {
   "cell_type": "code",
   "execution_count": 1,
   "metadata": {
    "autoscroll": false,
    "collapsed": false,
    "ein.hycell": false,
    "ein.tags": "worksheet-0",
    "slideshow": {
     "slide_type": "-"
    }
   },
   "outputs": [],
   "source": [
    "import numpy as np\n",
    "import matplotlib.pyplot as plt"
   ]
  },
  {
   "cell_type": "code",
   "execution_count": 2,
   "metadata": {
    "autoscroll": false,
    "collapsed": false,
    "ein.hycell": false,
    "ein.tags": "worksheet-0",
    "slideshow": {
     "slide_type": "-"
    }
   },
   "outputs": [],
   "source": [
    "#Physical Constants\n",
    "C = 2.99792458e8 #Speed of light in m/s\n",
    "me = 9.10938356e-31 #Electron mass in kilograms\n",
    "e = 1.60217662e-19 #Electron charge in Coulombs\n",
    "mu = 1.25663706e-6 #Permeability of Free Space \n",
    "epsilon = 8.85418782e-12 #Permittivity of Free Space\n",
    "kb = 1.38064852e-23 # Boltzman's constant"
   ]
  },
  {
   "cell_type": "code",
   "execution_count": 3,
   "metadata": {
    "autoscroll": false,
    "collapsed": false,
    "ein.hycell": false,
    "ein.tags": "worksheet-0",
    "slideshow": {
     "slide_type": "-"
    }
   },
   "outputs": [],
   "source": [
    "#Input Parameters\n",
    "mr = 1 #Mass Ratio Between the positive species and the negative species\n",
    "mi = me*mr #Mass of ions (positive species)\n",
    "sigmae = 10 #Magnetization Parameters for electrons (negative species)\n",
    "sigmai = sigmae/mr #and ions (positive species)\n",
    "ei = e*1 #Charge of ions\n",
    "beta = 0.3 #Value of v/c where v is the drift speed of current sheet (Value is from Werner et al.)\n",
    "gamma = 1/np.sqrt(1-beta**2) #Lorentz Factor of Current Sheet Moving at Drfit Speed beta.\n",
    "eSD = 0.0004 #Electron Skin Depth\n",
    "#eSd = C/omega = c/sqrt(n*e**2/m*epislon)\n",
    "#omega = Plasma Frequency.\n",
    "ne = C**2*me*epsilon/(eSD**2*e**2) #Number Density of Background Electrons in terms of electron skin depth.\n",
    "ni = ne #Number Density of Background Ions\n",
    "bToD = 5 #Background particle density to drift particle density ratio is 1/5.\n",
    "nde = ne * bToD #Drift Particle Electron Density\n",
    "ndi = ni * bToD #As above for ions."
   ]
  },
  {
   "cell_type": "code",
   "execution_count": 4,
   "metadata": {
    "autoscroll": false,
    "collapsed": false,
    "ein.hycell": false,
    "ein.tags": "worksheet-0",
    "slideshow": {
     "slide_type": "-"
    }
   },
   "outputs": [],
   "source": [
    "#Simulation Parameters\n",
    "B0 = np.sqrt(mu*sigmae*ne*me*C**2) #Relationship between magnetic field and \"cold\" background  cplasma energy density.\n",
    "#sigmae=B0**2/(4*np.pi*n*me*C**2))\n",
    "#Relevant for setting up Harris Sheet B0 and J0.\n",
    "\n",
    "thetae = sigmae/200 #Temeprature Parameter kb*T/mc^2 for background electrons. Relevant for initializing Maxwell-Juttner distribution.\n",
    "thetai = thetae/mr #As above for background ions.\n",
    "#(ne*Ti + ni*Ti)/(B0**2/(8*pi)) = 4*thetae/sigmae = 1/50 << 1, such that the magnetic pressure dominates over the thermal pressure (from Werner et al.)\n",
    "\n",
    "rhoe0 = C*me/(B0*e) #Standard Larmor Radius for electrons.\n",
    "rhoi0 = C*mi/(B0*ei) #As above for ions.\n",
    "rhoc = sigmae*rhoe0 #Larmor radius of electron with associatged magnetic energy sigmae*me*c**2. Relevant to determining simluation size.\n",
    "omegac = C/rhoc #Larmor frequency of an electron with the Larmor radius rhoc.\n",
    "#The length and time scales of Werner et al. are given in terms of rhoc and omegac.\n",
    "\n",
    "L = 120*rhoc #In Werner et al. the simulation box is 2L in the direction perpendicular to the current sheet and L in the other direction.\n",
    "\n",
    "#The Pressure Balance: (nde  * thetade * me + ndi * thetadi * mi) c**2 / gamma = B0**2 / (2*mu)\n",
    "thetade = (gamma/4)*(ne/nde)*sigmae #By the above pressure balance.\n",
    "thetadi = thetade/mr\n",
    "#Apmere's Law: B0/delta = (4 * pi / c) *  e * (nde + ndi) * Beta * c\n",
    "delta = 2*(thetade/(gamma*beta)*rhoe0) #Half thickness of current sheet, derived from Apmere's law and the pressure balance."
   ]
  },
  {
   "cell_type": "code",
   "execution_count": 5,
   "metadata": {
    "autoscroll": false,
    "collapsed": false,
    "ein.hycell": false,
    "ein.tags": "worksheet-0",
    "slideshow": {
     "slide_type": "-"
    }
   },
   "outputs": [
    {
     "data": {
      "image/png": "[encoded data removed]",
      "text/plain": [
       "<Figure size 864x720 with 2 Axes>"
      ]
     },
     "metadata": {},
     "output_type": "display_data"
    }
   ],
   "source": [
    "#B0 Plot\n",
    "l = 120*rhoc\n",
    "dx = dy = rhoc/16\n",
    "x = np.arange(-l/2,l/2,l/50)\n",
    "y = np.arange(-l,l,2*l/50)\n",
    "u,v=np.meshgrid(x,y)\n",
    "u = B0*np.tanh((v - (l/2))/delta)*np.heaviside(v,1) - B0*np.tanh((v + (l/2))/delta)*np.heaviside(-v,1)\n",
    "im=plt.pcolormesh(x,y,u)\n",
    "plt.gcf().colorbar(im)\n",
    "plt.gcf().set_facecolor('white')\n",
    "plt.gcf().set_size_inches(12,10)"
   ]
  },
  {
   "cell_type": "code",
   "execution_count": 6,
   "metadata": {
    "autoscroll": false,
    "collapsed": false,
    "ein.hycell": false,
    "ein.tags": "worksheet-0",
    "slideshow": {
     "slide_type": "-"
    }
   },
   "outputs": [
    {
     "data": {
      "image/png": "[encoded data removed]",
      "text/plain": [
       "<Figure size 864x720 with 2 Axes>"
      ]
     },
     "metadata": {},
     "output_type": "display_data"
    }
   ],
   "source": [
    "#ne0 Plot\n",
    "l = 120*rhoc\n",
    "dx = dy = rhoc/16\n",
    "x = np.arange(-l/2,l/2,l/50)\n",
    "y = np.arange(-l,l,2*l/50)\n",
    "u,v=np.meshgrid(x,y)\n",
    "u = nde*np.cosh((v-l/2)/delta)**-2*np.heaviside(v,1) - nde*np.cosh((v+l/2)/delta)**-2*np.heaviside(-v,1)\n",
    "im=plt.pcolormesh(x,y,u)\n",
    "plt.gcf().colorbar(im)\n",
    "plt.gcf().set_facecolor('white')\n",
    "plt.gcf().set_size_inches(12,10)"
   ]
  }
 ],
 "metadata": {
  "kernelspec": {
   "argv": [
    "python",
    "-m",
    "ipykernel_launcher",
    "-f",
    "{connection_file}"
   ],
   "display_name": "Python 3",
   "env": null,
   "interrupt_mode": "signal",
   "language": "python",
   "metadata": null,
   "name": "python3"
  },
  "name": "WerenerParameters.ipynb"
 },
 "nbformat": 4,
 "nbformat_minor": 2
}
